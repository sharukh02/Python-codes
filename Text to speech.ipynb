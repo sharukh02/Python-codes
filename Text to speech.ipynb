{
 "cells": [
  {
   "cell_type": "code",
   "execution_count": 2,
   "id": "78473f21",
   "metadata": {},
   "outputs": [
    {
     "name": "stdout",
     "output_type": "stream",
     "text": [
      "Collecting pyttsx3\n",
      "  Downloading pyttsx3-2.90-py3-none-any.whl (39 kB)\n",
      "Requirement already satisfied: pywin32 in c:\\users\\asus\\anaconda3\\lib\\site-packages (from pyttsx3) (228)\n",
      "Requirement already satisfied: comtypes in c:\\users\\asus\\anaconda3\\lib\\site-packages (from pyttsx3) (1.1.10)\n",
      "Collecting pypiwin32\n",
      "  Downloading pypiwin32-223-py3-none-any.whl (1.7 kB)\n",
      "Installing collected packages: pypiwin32, pyttsx3\n",
      "Successfully installed pypiwin32-223 pyttsx3-2.90\n",
      "Note: you may need to restart the kernel to use updated packages.\n"
     ]
    }
   ],
   "source": [
    "pip install pyttsx3"
   ]
  },
  {
   "cell_type": "code",
   "execution_count": 58,
   "id": "70fce749",
   "metadata": {},
   "outputs": [
    {
     "name": "stdout",
     "output_type": "stream",
     "text": [
      "Failure is complex, especially in the world of startups\n",
      "This Week in Apps: Instagram's parental controls, Tile's anti-stalking update, iOS 15.4 arrives\n",
      "Riding an API to platform status\n",
      "China's driverless delivery startup Whale Dynamic targets US market with $2.5M funding\n",
      "A security lapse exposed India's CISF personnel files and health records\n",
      "TechCrunch Experts: 3 articles on growth marketing and software development\n",
      "Daily Crunch: Porsche announces plans to build a global network of EV charging stations\n",
      "Unlocking inclusion for women of color in web3\n",
      "DigiLocker, India's app for issuance and verification of documents, tops 100 million users\n",
      "GM is buying out Softbank's stake in autonomous vehicle unit Cruise\n"
     ]
    }
   ],
   "source": [
    "import requests\n",
    "import json\n",
    "\n",
    "def speak(str):\n",
    "    import pyttsx3\n",
    "    engine = pyttsx3.init()\n",
    "    engine.say(str)\n",
    "    engine.runAndWait()\n",
    "\n",
    "if __name__=='__main__':\n",
    "    news = requests.get('#Paste you api key here').text\n",
    "    news_dict = json.loads(news)\n",
    "    arts = news_dict['articles']\n",
    "    speak(\"Let's begin\")\n",
    "    for i in arts:\n",
    "        speak(i['title'])\n",
    "        print(i['title'])\n",
    "    \n",
    "    speak(\"That's all for today\")\n",
    "    \n",
    "        \n",
    "        "
   ]
  },
  {
   "cell_type": "code",
   "execution_count": 56,
   "id": "d7c35e3a",
   "metadata": {},
   "outputs": [],
   "source": [
    "def speak(str):\n",
    "    import pyttsx3\n",
    "    engine = pyttsx3.init()\n",
    "    rate =engine.getProperty('rate')\n",
    "    print(rate)\n",
    "    engine.setProperty('rate',150)\n",
    "    \"\"\"VOLUME\"\"\"\n",
    "    volume = engine.getProperty('volume')   #getting to know current volume level (min=0 and max=1)\n",
    "    print (volume)                          #printing current volume level\n",
    "    engine.setProperty('volume',1.0)    # setting up volume level  between 0 and 1\n",
    "\n",
    "    \"\"\"VOICE\"\"\"\n",
    "    voices = engine.getProperty('voices')       #getting details of current voice\n",
    "    #engine.setProperty('voice', voices[0].id)  #changing index, changes voices. o for male\n",
    "    engine.setProperty('voice', voices[1].id)   #changing index, changes voices. 1 for female\n",
    "\n",
    "    engine.say(str)\n",
    "#     engine.say('My current speaking rate is ' + str(rate))\n",
    "    engine.runAndWait()\n",
    "    engine.stop()"
   ]
  },
  {
   "cell_type": "code",
   "execution_count": 57,
   "id": "6b38a33d",
   "metadata": {},
   "outputs": [
    {
     "name": "stdout",
     "output_type": "stream",
     "text": [
      "125\n",
      "1.0\n"
     ]
    }
   ],
   "source": [
    "speaks('I will not spare')"
   ]
  },
  {
   "cell_type": "code",
   "execution_count": null,
   "id": "57f6ffdf",
   "metadata": {},
   "outputs": [],
   "source": []
  }
 ],
 "metadata": {
  "kernelspec": {
   "display_name": "Python 3 (ipykernel)",
   "language": "python",
   "name": "python3"
  },
  "language_info": {
   "codemirror_mode": {
    "name": "ipython",
    "version": 3
   },
   "file_extension": ".py",
   "mimetype": "text/x-python",
   "name": "python",
   "nbconvert_exporter": "python",
   "pygments_lexer": "ipython3",
   "version": "3.9.7"
  }
 },
 "nbformat": 4,
 "nbformat_minor": 5
}
